{
 "cells": [
  {
   "cell_type": "code",
   "execution_count": null,
   "metadata": {},
   "outputs": [],
   "source": [
    "ints = []\n",
    "for i in range(64):\n",
    "    a = 0\n",
    "    if i//8 <= 5 and i%8 <= 6:\n",
    "        a += 1<<(i+17)\n",
    "    if i//8 <= 6 and i%8 <= 5:\n",
    "        a += 1<<(i+10)\n",
    "    if i//8 >= 1 and i%8 <= 5:\n",
    "        a += 1<<(i-6)\n",
    "    if i//8 >= 2 and i%8 <= 6:\n",
    "        a += 1<<(i-15)\n",
    "    if i//8 >= 2 and i%8 >= 1:\n",
    "        a += 1<<(i-17)\n",
    "    if i//8 >= 1 and i%8 >= 2:\n",
    "        a += 1<<(i-10)\n",
    "    if i//8 <= 6 and i%8 >= 2:\n",
    "        a += 1<<(i+6)\n",
    "    if i//8 <= 5 and i%8 >= 1:\n",
    "        a += 1<<(i+15)\n",
    "    \n",
    "    ints.append(a)\n",
    "ints"
   ]
  },
  {
   "cell_type": "code",
   "execution_count": null,
   "metadata": {},
   "outputs": [],
   "source": [
    "def  p_board(idx,tal):\n",
    "    for i in range(7,-1,-1):\n",
    "        for j in range(8):\n",
    "            if i*8+j == idx:\n",
    "                print(\"o\",end=\"\")\n",
    "            elif tal & 1<<(i*8+j) != 0:\n",
    "                print(\"x\",end=\"\")\n",
    "            else:\n",
    "                print(\".\",end=\"\")\n",
    "        print()\n",
    "    print()\n",
    "[p_board(idx,i) for idx,i in enumerate(ints)]"
   ]
  }
 ],
 "metadata": {
  "language_info": {
   "name": "python"
  }
 },
 "nbformat": 4,
 "nbformat_minor": 2
}
